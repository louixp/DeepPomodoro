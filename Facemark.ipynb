{
 "cells": [
  {
   "cell_type": "markdown",
   "metadata": {
    "colab_type": "text",
    "id": "WFaNwlE3LT-Q"
   },
   "source": [
    "# Baseline facemark detection\n",
    "\n",
    "Based on: https://www.analytics-link.com/single-post/2019/07/17/Mapping-Facial-Landmarks-in-Python-using-OpenCV"
   ]
  },
  {
   "cell_type": "code",
   "execution_count": 9,
   "metadata": {
    "colab": {
     "base_uri": "https://localhost:8080/",
     "height": 34
    },
    "colab_type": "code",
    "id": "_SDiZhq5FnTW",
    "outputId": "0149442c-26cf-4d5d-bc95-a49935f21b57"
   },
   "outputs": [
    {
     "name": "stdout",
     "output_type": "stream",
     "text": [
      "Drive already mounted at drive; to attempt to forcibly remount, call drive.mount(\"drive\", force_remount=True).\n"
     ]
    }
   ],
   "source": [
    "# Run this cell to mount your Google Drive.\n",
    "from google.colab import drive\n",
    "drive.mount('drive')"
   ]
  },
  {
   "cell_type": "code",
   "execution_count": 0,
   "metadata": {
    "colab": {},
    "colab_type": "code",
    "id": "K4-WWaxJecpu"
   },
   "outputs": [],
   "source": [
    "import os\n",
    "import cv2\n",
    "from google.colab.patches import cv2_imshow\n",
    "import dlib\n",
    "from itertools import chain \n",
    "import csv"
   ]
  },
  {
   "cell_type": "code",
   "execution_count": 0,
   "metadata": {
    "colab": {},
    "colab_type": "code",
    "id": "fOkSSx4D9r-i"
   },
   "outputs": [],
   "source": [
    "# set up the 68 point facial landmark detector\n",
    "detector = dlib.get_frontal_face_detector()\n",
    "predictor = dlib.shape_predictor(\"/content/drive/My Drive/DeepPomodoro/Facemark/shape_predictor_68_face_landmarks.dat\")"
   ]
  },
  {
   "cell_type": "code",
   "execution_count": 0,
   "metadata": {
    "colab": {},
    "colab_type": "code",
    "id": "49gPr0E0K-me"
   },
   "outputs": [],
   "source": [
    "directory = '/content/drive/My Drive/DeepPomodoro/test'\n",
    "dir_encode = os.fsencode(directory)\n",
    "\n",
    "for file in os.listdir(dir_encode):\n",
    "  filename = os.fsdecode(file)\n",
    "  \n",
    "  # bring in the input image\n",
    "  img_dir = directory + '/' + filename\n",
    "  img = cv2.imread(img_dir, 1)\n",
    "  # convert to grayscale\n",
    "  img_gray = cv2.cvtColor(img, cv2.COLOR_BGR2GRAY)\n",
    "\n",
    "  # detect faces in the image\n",
    "  faces_in_image = detector(img_gray, 0)\n",
    "\n",
    "  # loop through each face in image\n",
    "  for face in faces_in_image:\n",
    "    \n",
    "    # assign the facial landmarks\n",
    "    landmarks = predictor(img_gray, face)\n",
    "    \n",
    "    # unpack the 68 landmark coordinates from the dlib object into a list \n",
    "    landmarks_list = []\n",
    "    for i in range(0, landmarks.num_parts):\n",
    "      landmarks_list.append((landmarks.part(i).x, landmarks.part(i).y))\n",
    "    \n",
    "    '''\n",
    "    # for each landmark, plot and write number\n",
    "    for landmark_num, xy in enumerate(landmarks_list, start = 1):\n",
    "      cv2.circle(img, (xy[0], xy[1]), 5, (168, 0, 20), -1)\n",
    "      cv2.putText(img, str(landmark_num),(xy[0]-7,xy[1]+5), cv2.FONT_HERSHEY_SIMPLEX, 0.4,(255,255,255), 1)\n",
    "  \n",
    "  # visualise the image with landmarks\n",
    "  cv2_imshow(img)\n",
    "  cv2.waitKey(0)\n",
    "  cv2.destroyAllWindows()\n",
    "  '''\n",
    "  \n",
    "  # Flatten 68 x 2 landmark list into a list of 136 elements\n",
    "  landmarks_flattened = list(chain.from_iterable(landmarks_list)) \n",
    "  # Write landmarks to csv\n",
    "  with open('/content/drive/My Drive/DeepPomodoro/test.csv', 'a') as myfile:\n",
    "    wr = csv.writer(myfile, quoting=csv.QUOTE_ALL)\n",
    "    wr.writerow(landmarks_flattened)"
   ]
  }
 ],
 "metadata": {
  "colab": {
   "collapsed_sections": [],
   "name": "Facemark.ipynb",
   "provenance": [],
   "version": "0.3.2"
  },
  "kernelspec": {
   "display_name": "Python 3",
   "language": "python",
   "name": "python3"
  },
  "language_info": {
   "codemirror_mode": {
    "name": "ipython",
    "version": 3
   },
   "file_extension": ".py",
   "mimetype": "text/x-python",
   "name": "python",
   "nbconvert_exporter": "python",
   "pygments_lexer": "ipython3",
   "version": "3.7.3"
  }
 },
 "nbformat": 4,
 "nbformat_minor": 1
}
